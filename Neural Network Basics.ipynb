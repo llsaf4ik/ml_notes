{
 "cells": [
  {
   "cell_type": "markdown",
   "id": "f5d34caf",
   "metadata": {},
   "source": [
    "# Основы нейронных сетей "
   ]
  },
  {
   "cell_type": "code",
   "execution_count": 1,
   "id": "70e640c5",
   "metadata": {},
   "outputs": [],
   "source": [
    "import torch\n",
    "import numpy as np"
   ]
  },
  {
   "cell_type": "code",
   "execution_count": 2,
   "id": "a226767d",
   "metadata": {},
   "outputs": [],
   "source": [
    "Y = torch.rand((2, 5))\n",
    "X = torch.rand((2, 3))\n",
    "W = torch.rand((3, 5)).requires_grad_()  # отслеживать градиенты для этого тензора"
   ]
  },
  {
   "cell_type": "code",
   "execution_count": 3,
   "id": "dcdddb0b",
   "metadata": {},
   "outputs": [],
   "source": [
    "for i in range(200):\n",
    "    pred = X @ W\n",
    "    pred_loss = torch.sum((pred - Y)**2)\n",
    "    reg_loss = 0.01 * torch.sum(torch.abs(W))\n",
    "    loss = pred_loss + reg_loss\n",
    "    \n",
    "    loss.backward()  # подсчет градиентов\n",
    "    W.data.add_(-0.1 * W.grad.data)  # шаг градиент. спуска\n",
    "    W.grad.zero_()  # обнуление градиента весов, чтобы не было накопления градиента"
   ]
  },
  {
   "cell_type": "code",
   "execution_count": 4,
   "id": "ee6795b4",
   "metadata": {},
   "outputs": [
    {
     "data": {
      "text/plain": [
       "tensor([[0.4805, 0.5031, 0.3423, 0.7628, 0.4291],\n",
       "        [0.5654, 0.2190, 0.3507, 0.4006, 0.2436]], grad_fn=<MmBackward0>)"
      ]
     },
     "execution_count": 4,
     "metadata": {},
     "output_type": "execute_result"
    }
   ],
   "source": [
    "X @ W"
   ]
  },
  {
   "cell_type": "code",
   "execution_count": 5,
   "id": "248c03f3",
   "metadata": {},
   "outputs": [
    {
     "data": {
      "text/plain": [
       "tensor([[0.2289, 0.6462, 0.1482, 0.9486, 0.4987],\n",
       "        [0.9153, 0.0333, 0.6223, 0.1568, 0.1582]])"
      ]
     },
     "execution_count": 5,
     "metadata": {},
     "output_type": "execute_result"
    }
   ],
   "source": [
    "Y"
   ]
  },
  {
   "cell_type": "markdown",
   "id": "7b052dce",
   "metadata": {},
   "source": [
    "# Pytorch Modules"
   ]
  },
  {
   "cell_type": "code",
   "execution_count": 6,
   "id": "aae53576",
   "metadata": {},
   "outputs": [],
   "source": [
    "import torch.optim as optim\n",
    "import torch.nn as nn"
   ]
  },
  {
   "cell_type": "code",
   "execution_count": 7,
   "id": "ed50627e",
   "metadata": {},
   "outputs": [],
   "source": [
    "X = torch.rand(1, 8)\n",
    "y = torch.rand(1, 3)"
   ]
  },
  {
   "cell_type": "code",
   "execution_count": 8,
   "id": "c24be399",
   "metadata": {},
   "outputs": [],
   "source": [
    "model = nn.Sequential(\n",
    "    nn.Linear(8, 10),\n",
    "    nn.ReLU(),\n",
    "    nn.Linear(10, 20), \n",
    "    nn.ReLU(),\n",
    "    nn.Linear(20, 3)\n",
    ")"
   ]
  },
  {
   "cell_type": "code",
   "execution_count": 9,
   "id": "9c1f0eab",
   "metadata": {},
   "outputs": [],
   "source": [
    "optimizer = optim.SGD(model.parameters(), lr=0.03, weight_decay=0.01)"
   ]
  },
  {
   "cell_type": "code",
   "execution_count": 10,
   "id": "ab127def",
   "metadata": {},
   "outputs": [],
   "source": [
    "for i in range(250):\n",
    "    optimizer.zero_grad()\n",
    "    pred = model(X)\n",
    "    criterion = nn.CrossEntropyLoss()\n",
    "    loss = criterion(pred, y)\n",
    "    loss.backward()\n",
    "    optimizer.step()"
   ]
  },
  {
   "cell_type": "code",
   "execution_count": 11,
   "id": "2d245803",
   "metadata": {},
   "outputs": [],
   "source": [
    "def softmax(x):\n",
    "    x = x.detach().numpy()\n",
    "    el = np.exp(x)\n",
    "    return el / np.sum(el)"
   ]
  },
  {
   "cell_type": "code",
   "execution_count": 12,
   "id": "4c10cdd9",
   "metadata": {},
   "outputs": [
    {
     "data": {
      "text/plain": [
       "tensor([[ 0.2211,  0.2977, -0.7787]], grad_fn=<AddmmBackward0>)"
      ]
     },
     "execution_count": 12,
     "metadata": {},
     "output_type": "execute_result"
    }
   ],
   "source": [
    "model(X)"
   ]
  },
  {
   "cell_type": "code",
   "execution_count": 13,
   "id": "f71c1373",
   "metadata": {},
   "outputs": [
    {
     "data": {
      "text/plain": [
       "tensor([[0.8882, 0.9600, 0.3220]])"
      ]
     },
     "execution_count": 13,
     "metadata": {},
     "output_type": "execute_result"
    }
   ],
   "source": [
    "y"
   ]
  },
  {
   "cell_type": "code",
   "execution_count": 14,
   "id": "a5c3fa9b",
   "metadata": {},
   "outputs": [
    {
     "data": {
      "text/plain": [
       "array([[0.40855807, 0.44110358, 0.15033837]], dtype=float32)"
      ]
     },
     "execution_count": 14,
     "metadata": {},
     "output_type": "execute_result"
    }
   ],
   "source": [
    "softmax(model(X))"
   ]
  },
  {
   "cell_type": "code",
   "execution_count": 15,
   "id": "8258cfaa",
   "metadata": {},
   "outputs": [],
   "source": [
    "import torch.nn.functional as F"
   ]
  },
  {
   "cell_type": "code",
   "execution_count": 16,
   "id": "7c307dea",
   "metadata": {},
   "outputs": [],
   "source": [
    "class Net(nn.Module):\n",
    "    def __init__(self):\n",
    "        super(Net, self).__init__()\n",
    "        self.layer1 = nn.Linear(8, 10)\n",
    "        self.layer2 = nn.Linear(10, 20)\n",
    "        self.layer3 = nn.Linear(20, 3)\n",
    "        \n",
    "    def forward(self, x):\n",
    "        x = F.relu(self.layer1(x))\n",
    "        x = F.relu(self.layer2(x))\n",
    "        x = self.layer3(x)\n",
    "        return x"
   ]
  },
  {
   "cell_type": "code",
   "execution_count": 17,
   "id": "471a052f",
   "metadata": {},
   "outputs": [],
   "source": [
    "model = Net()"
   ]
  },
  {
   "cell_type": "code",
   "execution_count": 18,
   "id": "8f4ebfd7",
   "metadata": {},
   "outputs": [
    {
     "data": {
      "text/plain": [
       "tensor([[ 0.1429, -0.0869, -0.0807]], grad_fn=<AddmmBackward0>)"
      ]
     },
     "execution_count": 18,
     "metadata": {},
     "output_type": "execute_result"
    }
   ],
   "source": [
    "model(X)"
   ]
  },
  {
   "cell_type": "code",
   "execution_count": 19,
   "id": "7c270a4e",
   "metadata": {},
   "outputs": [],
   "source": [
    "optimizer = optim.SGD(model.parameters(), lr=0.03, weight_decay=0.01)"
   ]
  },
  {
   "cell_type": "code",
   "execution_count": 20,
   "id": "c738a156",
   "metadata": {},
   "outputs": [],
   "source": [
    "for i in range(250):\n",
    "    optimizer.zero_grad()\n",
    "    pred = model(X)\n",
    "    criterion = nn.CrossEntropyLoss()\n",
    "    loss = criterion(pred, y)\n",
    "    loss.backward()\n",
    "    optimizer.step()"
   ]
  },
  {
   "cell_type": "code",
   "execution_count": 21,
   "id": "b6b9ab81",
   "metadata": {},
   "outputs": [
    {
     "data": {
      "text/plain": [
       "array([[0.40819496, 0.44144863, 0.15035643]], dtype=float32)"
      ]
     },
     "execution_count": 21,
     "metadata": {},
     "output_type": "execute_result"
    }
   ],
   "source": [
    "softmax(model(X))"
   ]
  },
  {
   "cell_type": "code",
   "execution_count": 22,
   "id": "870159b5",
   "metadata": {},
   "outputs": [
    {
     "data": {
      "text/plain": [
       "tensor([[0.8882, 0.9600, 0.3220]])"
      ]
     },
     "execution_count": 22,
     "metadata": {},
     "output_type": "execute_result"
    }
   ],
   "source": [
    "y"
   ]
  },
  {
   "cell_type": "markdown",
   "id": "34746778",
   "metadata": {},
   "source": [
    "# Data preprocessing"
   ]
  },
  {
   "cell_type": "markdown",
   "id": "58c165a5",
   "metadata": {},
   "source": [
    "Нейронные сети лучше сходятся, если подавать данные одного масштаба. В противном случае признаки с большими значениями могут доминировать над признаками с меньшими значениями. Также это важно при инициализации весов (например, Xavier), так как предполагатеся, что нейроны некоторого слоя до применения функции активации выдают значения с определенной дисперсией. \n",
    "\n",
    "$X' = \\frac{X-Mean\\_X}{Std\\_X}$\n",
    "\n",
    "Стандартизация помогает нейросети на самых первых этапах тренировки нащупать, где находятся данные (около нуля с некоторым стандартным отклонением), поэтому такая система сходится лучше и быстрее."
   ]
  },
  {
   "cell_type": "code",
   "execution_count": 224,
   "id": "021f254a",
   "metadata": {},
   "outputs": [],
   "source": [
    "from sklearn.preprocessing import StandardScaler"
   ]
  },
  {
   "cell_type": "code",
   "execution_count": 24,
   "id": "cb828ead",
   "metadata": {},
   "outputs": [],
   "source": [
    "X = np.array([[10, 0.1, -1],\n",
    "              [105, 0.7, 5],\n",
    "              [-200, -0.9, -3],\n",
    "              [500, 1, 0]])"
   ]
  },
  {
   "cell_type": "code",
   "execution_count": 25,
   "id": "b44acbd7",
   "metadata": {},
   "outputs": [],
   "source": [
    "scaler = StandardScaler()\n",
    "X_scaled = scaler.fit_transform(X)"
   ]
  },
  {
   "cell_type": "code",
   "execution_count": 26,
   "id": "3908116f",
   "metadata": {},
   "outputs": [
    {
     "data": {
      "text/plain": [
       "array([[-0.36909109, -0.17220915, -0.42409446],\n",
       "       [ 0.00492121,  0.65439476,  1.61155897],\n",
       "       [-1.19585514, -1.54988233, -1.10264561],\n",
       "       [ 1.56002501,  1.06769671, -0.08481889]])"
      ]
     },
     "execution_count": 26,
     "metadata": {},
     "output_type": "execute_result"
    }
   ],
   "source": [
    "X_scaled"
   ]
  },
  {
   "cell_type": "markdown",
   "id": "b66a494e",
   "metadata": {},
   "source": [
    "# [Weight initialization](https://neerc.ifmo.ru/wiki/index.php?title=%D0%98%D0%BD%D0%B8%D1%86%D0%B8%D0%B0%D0%BB%D0%B8%D0%B7%D0%B0%D1%86%D0%B8%D1%8F_%D0%BF%D0%B0%D1%80%D0%B0%D0%BC%D0%B5%D1%82%D1%80%D0%BE%D0%B2_%D0%B3%D0%BB%D1%83%D0%B1%D0%BE%D0%BA%D0%BE%D0%B9_%D1%81%D0%B5%D1%82%D0%B8)"
   ]
  },
  {
   "cell_type": "markdown",
   "id": "bda24431",
   "metadata": {},
   "source": [
    "### [Xavier initialization](https://education.yandex.ru/handbook/ml/article/tonkosti-obucheniya)\n",
    "\n",
    "Простое инициализирование весов случайными значениями неэффективно. Вместо этого веса можно инициализировать так, чтобы дисперсия значении, которые приходят на каждый слой нейронов, оставалась примерно одинаковой на каждом слое.\n",
    "\n",
    "Рассмотрим линейное преобразование:\n",
    "\n",
    "$y$ = $w^{T}\\cdot$ $x$ $+$ $b$ = $\\sum(w_i\\cdot x_i)$ + $b$ = $\\sum(y_i)$ + $b$\n",
    "\n",
    "Возьмем вектор $b$ равным $0$ (или очень малым значением), тогда дисперсия y не зависит от $b$. \n",
    "\n",
    "$Var$ $(X)$ = $E$ $(X^2)$ $-$ $E$ $(X)^2$ $-$ (дисперсия)\n",
    "\n",
    "$E$ $(X)$ $-$ (математическое ожидание)\n",
    "\n",
    "$cov$ $(X, Y)$ $-$ (ковариация)\n",
    "\n",
    "$cov$ $(X, Y) = E[(X - E[X])(Y - E[Y])] = E[XY - XE[Y] - YE[X] + E[X]E[Y]] $\n",
    "\n",
    "$cov$ $(X, Y) = E[XY] - E[X]E[Y] - E[Y]E[X] + E[X]E[Y] = E[XY] - E[X]E[Y] $\n",
    "\n",
    "Если принять, что $X$ и $Y$ независимы, то $cov(X, Y)$ = $0$ поэтому $=>$ $E[XY]$ = $E[X]E[Y]$\n",
    "\n",
    "$Var$ $(y_i)$ = $Var$ $(w_i\\cdot x_i)$ = $E$ $(w_i^2\\cdot x_i^2)$ $-$ $E$ $(w_i\\cdot x_i)^2$\n",
    "\n",
    "$Var$ $(y_i)$ = $cov$ $(w_i^2, x_i^2)$ + $E$ $(w_i^2)$ $\\cdot$ $E$ $(x_i^2)$ $-$ $E$ $(w_i\\cdot x_i)^2$\n",
    "\n",
    "$Var$ $(y_i)$ = $cov$ $(w_i^2, x_i^2)$ + $(Var$ $(w_i)$ + $E$ $(w_i)^2)$ $\\cdot$ $(Var$ $(x_i)$ + $E$ $(x_i)^2)$ $-$ $(cov$ $(w_i, x_i)$ + $E$ $(w_i)$ $\\cdot$ $E$ $(x_i))^2$ ($w_i$ и $x_i$ независимы, поэтому сокращаем все $cov$)\n",
    "\n",
    "После раскрытия скобок получаем:\n",
    "\n",
    "$Var$ $(y_i)$ = $E$ $(x_i)^2$ $\\cdot$ $Var$ $(w_i)$ + $E$ $(w_i)^2$ $\\cdot$ $Var$ $(x_i)$ + $Var$ $(w_i)$ $\\cdot$ $Var$ $(x_i)$\n",
    "\n",
    "Так как мы сами выбираем параметры распределения, то мы их можем выбрать так, чтобы $E$ $(w_i)$ = $0$ для всех слоев. То же самое работает в случае входных $(x_i)$ значений $E$ $(x_i)$ = $0$, так как для первого слоя можно делать стандартизацию.\n",
    "\n",
    "$(E$ $(w_i)$ = $0,$ $E$ $(x_i)$ = $0)$ $=>$ $Var$ $(y_i)$ = $Var$ $(w_i)$ $\\cdot$ $Var$ $(x_i)$\n",
    "\n",
    "Это предположение верно для первого слоя, но оно будет верно и для всех остальных слоев, если использовать симметричную относительно нуля функцию активации $(Tanh)$, которая будет сохранять нулевое математическое ожидание. \n",
    "\n",
    "$Var$ $(y)$ = $Var$ $(\\sum_{i=1}^{n_{in}}y_i)$ = $\\sum_{i=1}^{n_{in}}Var(y_i)$ = $n_{in}$ $\\cdot$ $Var$ $(w_i)$ $\\cdot$ $Var$ $(x_i)$\n",
    "\n",
    "Таким образом, дисперсия входных данных $x_i$ линейно зависит от дисперсии результата с коэффициентом $n_{in}$ $\\cdot$ $Var$ $(w_i)$\n",
    "\n",
    "Поэтому из условия $Var$ $(y)$ = $Var$ $(x_i)$ $=>$ $Var$ $(w_i)$ = $\\frac{1}{n_{in}}$ $=>$ дисперсия входных значений на каждом слое будет сохраняться на одинаковом уровне. То же самое работает в обратном проходе, только будет $\\frac{1}{n_{out}}$.\n",
    "\n",
    "Для начальной инициализации параметров стоит использовать такое распределение, что $Var$ $(w_i)$ = $\\frac{1}{n_{in}}$ и $Var$ $(w_i)$ = $\\frac{1}{n_{out}}$, которое позволит контролировать изменение дисперсии.\n",
    "\n",
    "Предыдущий подход хорошо работает, когда размерность наших данных не изменяется после преобразований $(n_{in}=n_{out})$, но так бывает не всегда. \n",
    "\n",
    "Поэтому используется $Var$ $(w_i)$ = $\\frac{1}{\\frac{n_{in} + n_{out}}{2}}$ = $\\frac{2}{n_{in} + n_{out}}$\n",
    "\n",
    "$w_i$ ~ $\\mathcal{N}(0, \\frac{2}{n_{in} + n_{out}})$\n",
    "\n",
    "Для инициализации Xavier должно выполняться условие симметричной функции активации. Но ReLU не симметрична относительно нуля.\n",
    "\n",
    "### He initialization\n",
    "\n",
    "Эта инициализация учитывает особенности функции активации ReLU. Так как ReLU несимметричная функция активации $\\mathcal{f}(x)$ = $max(0, x)$, мы не сможем утверждать, что мат. ожидание входных значении на каждом слое будет нулевым.\n",
    "\n",
    "$(E$ $(w_i)$ = $0,$ $E$ $(x_i)$ ≠ $0)$ $=>$ $Var$ $(y_i)$ = $E$ $(x_i)^2$ $\\cdot$ $Var$ $(w_i)$ + $Var$ $(w_i)$ $\\cdot$ $Var$ $(x_i)$ = $Var$ $(w_i)$ $\\cdot$ $(E$ $(x_i)^2$ + $Var$ $(x_i))$ = $Var$ $(w_i)$ $\\cdot$ $E$ $(x_i^2)$\n",
    "\n",
    "$Var$ $(y)$ = $Var$ $(\\sum_{i=1}^{n_{in}}y_i)$ = $\\sum_{i=1}^{n_{in}}Var(y_i)$ = $n_{in}$ $\\cdot$ $Var$ $(w_i)$ $\\cdot$ $E$ $(x_i^2)$\n",
    "\n",
    "Поэтому мы будем пытаться контролировать дисперсию не между слоями, а между входами ReLU. \n",
    "\n",
    "$x$ = $ReLU(y_{prev})$\n",
    "\n",
    "$E$ $(y_{prev})$ = $0$, т.к. $w_{prev}$ и $x_{prev}$ независимы. Также $y_{prev}$ распределен симметрично относительно 0.\n",
    "\n",
    "Функция $max(0, y_{prev})$ возвращает $y_{prev}$ если $y_{prev}$ неотрицательно, и $0$ если $y_{prev}$ отрицательно. В квадрате это будет $y_{prev}^2$ если $y_{prev}$ неотрицательно, и $0$ если $y_{prev}$ отрицательно.\n",
    "\n",
    "График $max(0, y_{prev})$ при x < 0 имеет вид прямой y = 0, при x > 0 прямая. График $(y_{prev}^2)$ имеет вид параболы.\n",
    "\n",
    "$E$ $(max(0, y_{prev})^2)$ = $∫_{-∞}^{∞} max(0, y_{prev})^2 \\cdot f(y_{prev}) \\cdot dy_{prev}$ = $∫_{-∞}^{0} 0 \\cdot f(y_{prev}) \\cdot dy_{prev}$ + $∫_{0}^{∞} y_{prev}^2 \\cdot f(y_{prev}) \\cdot dy_{prev}$ = $∫_{0}^{∞} y_{prev}^2 \\cdot f(y_{prev}) \\cdot dy_{prev}$\n",
    "\n",
    "$E$ $(y_{prev}^2)$ = $∫_{-∞}^{∞} y_{prev}^2 \\cdot f(y_{prev}) \\cdot dy_{prev}$, где $f(y_{prev})$ - плотность.\n",
    "\n",
    "$=>$ $E$ $(max(0, y_{prev})^2)$ = $\\frac{1}{2} \\cdot$ $E$ $(y_{prev}^2)$ \n",
    "\n",
    "$E$ $(x_i^2)$ = $E$ $(max(0, y_{prev})^2)$ = $\\frac{1}{2} \\cdot$ $E$ $(y_{prev}^2)$ = $\\frac{1}{2} \\cdot$ $(E$ $(y_{prev})^2$ + $Var$ $(y_{prev}))$ = $\\frac{1}{2} \\cdot$ $Var$ $(y_{prev})$\n",
    "\n",
    "$Var$ $(y)$ = $n_{in}$ $\\cdot$ $Var$ $(w_i)$ $\\cdot$ $E$ $(x_i^2)$ = $\\frac{1}{2} \\cdot$ $n_{in}$ $\\cdot$ $Var$ $(w_i)$ $\\cdot$ $Var$ $(y_{prev})$\n",
    "\n",
    "Из $Var$ $(y)$ = $Var$ $(y_{prev})$  $=>$ $Var$ $(w_i)$ = $\\frac{2}{n_{in}}$\n",
    "\n",
    "$w_i$ ~ $\\mathcal{N}(0, \\frac{2}{n_{in}})$\n",
    "\n",
    "### [Объяснение инициализации Xavier на пальцах](https://stepik.org/lesson/573086/step/1?unit=567635)\n",
    "\n",
    "Будем считать, функция активации у всех нейронов одинаковая и удовлетворяет условиям $f(x)$ $≈$ $x$ и $f'(x)$ $≈$ $1$ вблизи нуля. Веса-смещения равны нулю или близки к нулю. Функция активации симметрична относительно $0$.\n",
    "\n",
    "Пусть каждый нейрон левого слоя до применения функции активации имеет выходное значение в диапазоне $[-a, a]$. Тогда после применения функции активации будет диапазон $[f(-a), f(a)]$ = $[-f(a), f(a)]$\n",
    "\n",
    "Пусть веса связей между слоями принадлежат диапазону $[-b, b]$ (число b мы хотим найти)\n",
    "\n",
    "Произведение входных значении на соответсвующий вес дает диапазон $[-bf(a), bf(a)]$. Диапазон $[-nbf(a), n bf(a)]$ $≈$ $[-nba, nba]$ для каждого нейрона правого слоя получается путем суммирования всех соответсвующих $n$ значений.\n",
    "\n",
    "Получается, что при переходе между слоями сигнал из интервала $[-a, a]$ переходит в интервал $[-nba, nba]$.\n",
    "\n",
    "Нужно, чтобы интервал оставался примерно одинаковым, поэтому $nba$ = $a$. Поэтому $b$ = $\\frac{1}{n}$.\n",
    "\n",
    "Теперь посмотрим на это со стороны обратного распространения ошибки. Пусть $y(x)$ - значение, выдаваемое некоторым нейроном из левого слоя. $y_1(x), y_2(x), ..., y_n(x)$ - выходы из нейронов правого слоя. \n",
    "\n",
    "Тогда $y_i(x)$ = $f(...$ + $y(x)\\cdot w_i$ + $...)$\n",
    "\n",
    "$\\frac{dy_i}{dy}$ = $f'(...)\\cdot w_i$ $≈$ $w_i$\n",
    "\n",
    "Частная производная: $\\frac{dL}{dy}$ = $\\frac{dL}{dy_1}\\cdot \\frac{dy_1}{dy}$ + ... + $\\frac{dL}{dy_n}\\cdot \\frac{dy_n}{dy}$\n",
    "\n",
    "$\\frac{dL}{dy}$ = $\\frac{dL}{dy_1}\\cdot w_1$ + ... + $\\frac{dL}{dy_n}\\cdot w_n$\n",
    "\n",
    "Веса $w_i$ принадлежат интервалу $[-b, b]$ и пусть $\\frac{dL}{dy_i}$ принадлежат интервалу $[-c, c]$. Тогда $\\frac{dL}{dy}$ $∈$ $[-nbc, nbc]$\n",
    "\n",
    "Получается, что при переходе между слоями сигнал из интервала $[-c, c]$ переходит в интервал $[-nbc, nbc]$.\n",
    "\n",
    "Нужно, чтобы интервал оставался примерно одинаковым, поэтому $nbc$ = $c$. Поэтому $b$ = $\\frac{1}{n}$.\n",
    "\n",
    "Поэтому веса связей между слоями нужно брать в интервале $[-\\frac{1}{n}, \\frac{1}{n}]$."
   ]
  },
  {
   "cell_type": "markdown",
   "id": "2e9a0323",
   "metadata": {},
   "source": [
    "# [Xavier in Pytorch](https://pytorch.org/docs/stable/nn.init.html#:~:text=Xavier%20normal)"
   ]
  },
  {
   "cell_type": "code",
   "execution_count": 27,
   "id": "5d63250f",
   "metadata": {},
   "outputs": [],
   "source": [
    "layer = nn.Linear(2, 5)"
   ]
  },
  {
   "cell_type": "code",
   "execution_count": 28,
   "id": "8a6920a9",
   "metadata": {},
   "outputs": [
    {
     "data": {
      "text/plain": [
       "Parameter containing:\n",
       "tensor([[-0.5124, -0.1074],\n",
       "        [ 0.2488,  0.0938],\n",
       "        [ 0.2358, -0.5932],\n",
       "        [ 0.4015, -0.4362],\n",
       "        [ 0.1463, -0.2894]], requires_grad=True)"
      ]
     },
     "execution_count": 28,
     "metadata": {},
     "output_type": "execute_result"
    }
   ],
   "source": [
    "layer.weight"
   ]
  },
  {
   "cell_type": "code",
   "execution_count": 29,
   "id": "4dc9ec61",
   "metadata": {},
   "outputs": [
    {
     "data": {
      "text/plain": [
       "Parameter containing:\n",
       "tensor([-0.6825,  0.1302, -0.0178, -0.1324,  0.5688], requires_grad=True)"
      ]
     },
     "execution_count": 29,
     "metadata": {},
     "output_type": "execute_result"
    }
   ],
   "source": [
    "layer.bias"
   ]
  },
  {
   "cell_type": "code",
   "execution_count": 30,
   "id": "6e70fedf",
   "metadata": {},
   "outputs": [],
   "source": [
    "nn.init.xavier_normal_(layer.weight);\n",
    "nn.init.zeros_(layer.bias);"
   ]
  },
  {
   "cell_type": "code",
   "execution_count": 31,
   "id": "7ecafc86",
   "metadata": {},
   "outputs": [
    {
     "data": {
      "text/plain": [
       "Parameter containing:\n",
       "tensor([[ 0.6302, -0.0976],\n",
       "        [-0.1538,  0.0538],\n",
       "        [-0.1926, -0.6810],\n",
       "        [ 0.1445,  0.2746],\n",
       "        [-0.0034,  0.3615]], requires_grad=True)"
      ]
     },
     "execution_count": 31,
     "metadata": {},
     "output_type": "execute_result"
    }
   ],
   "source": [
    "layer.weight"
   ]
  },
  {
   "cell_type": "code",
   "execution_count": 32,
   "id": "f30f5cb2",
   "metadata": {},
   "outputs": [
    {
     "data": {
      "text/plain": [
       "Parameter containing:\n",
       "tensor([0., 0., 0., 0., 0.], requires_grad=True)"
      ]
     },
     "execution_count": 32,
     "metadata": {},
     "output_type": "execute_result"
    }
   ],
   "source": [
    "layer.bias"
   ]
  },
  {
   "cell_type": "markdown",
   "id": "5b951ff3",
   "metadata": {},
   "source": [
    "# [He in Pytorch](https://pytorch.org/docs/stable/nn.init.html#:~:text=Kaiming%20normal)"
   ]
  },
  {
   "cell_type": "code",
   "execution_count": 33,
   "id": "a85d8d19",
   "metadata": {},
   "outputs": [],
   "source": [
    "layer = nn.Linear(2, 2)"
   ]
  },
  {
   "cell_type": "code",
   "execution_count": 34,
   "id": "a3806656",
   "metadata": {
    "scrolled": true
   },
   "outputs": [
    {
     "data": {
      "text/plain": [
       "Parameter containing:\n",
       "tensor([[-0.0060,  0.1107],\n",
       "        [-0.5701,  0.5777]], requires_grad=True)"
      ]
     },
     "execution_count": 34,
     "metadata": {},
     "output_type": "execute_result"
    }
   ],
   "source": [
    "layer.weight"
   ]
  },
  {
   "cell_type": "code",
   "execution_count": 35,
   "id": "512d9627",
   "metadata": {},
   "outputs": [
    {
     "data": {
      "text/plain": [
       "Parameter containing:\n",
       "tensor([-0.6048,  0.2606], requires_grad=True)"
      ]
     },
     "execution_count": 35,
     "metadata": {},
     "output_type": "execute_result"
    }
   ],
   "source": [
    "layer.bias"
   ]
  },
  {
   "cell_type": "code",
   "execution_count": 36,
   "id": "ff15cf1b",
   "metadata": {},
   "outputs": [],
   "source": [
    "nn.init.kaiming_normal_(layer.weight, mode=\"fan_in\", nonlinearity='relu');\n",
    "nn.init.zeros_(layer.bias);"
   ]
  },
  {
   "cell_type": "code",
   "execution_count": 37,
   "id": "898514d1",
   "metadata": {},
   "outputs": [
    {
     "data": {
      "text/plain": [
       "Parameter containing:\n",
       "tensor([[-1.3726, -0.8851],\n",
       "        [ 0.8490, -0.7442]], requires_grad=True)"
      ]
     },
     "execution_count": 37,
     "metadata": {},
     "output_type": "execute_result"
    }
   ],
   "source": [
    "layer.weight"
   ]
  },
  {
   "cell_type": "code",
   "execution_count": 38,
   "id": "9d9f85e6",
   "metadata": {},
   "outputs": [
    {
     "data": {
      "text/plain": [
       "Parameter containing:\n",
       "tensor([0., 0.], requires_grad=True)"
      ]
     },
     "execution_count": 38,
     "metadata": {},
     "output_type": "execute_result"
    }
   ],
   "source": [
    "layer.bias"
   ]
  },
  {
   "cell_type": "markdown",
   "id": "ced28bb0",
   "metadata": {},
   "source": [
    "# [Методы оптимизации градиентного спуска](https://education.yandex.ru/handbook/ml/article/optimizaciya-v-ml)"
   ]
  },
  {
   "cell_type": "markdown",
   "id": "17fbd564",
   "metadata": {},
   "source": [
    "# [SGD](https://pytorch.org/docs/stable/generated/torch.optim.SGD.html)\n",
    "\n",
    "Стохастический градиентный спуск"
   ]
  },
  {
   "cell_type": "code",
   "execution_count": 39,
   "id": "076eb764",
   "metadata": {},
   "outputs": [],
   "source": [
    "optimizer = optim.SGD(model.parameters(), # передача весов модели\n",
    "                      lr=0.03,            # learning rate\n",
    "                      weight_decay=0.01)  # L2 регуляризация"
   ]
  },
  {
   "cell_type": "markdown",
   "id": "045ff771",
   "metadata": {},
   "source": [
    "# [Momentum](https://pytorch.org/docs/stable/generated/torch.optim.SGD.html)"
   ]
  },
  {
   "cell_type": "markdown",
   "id": "6c4d9639",
   "metadata": {},
   "source": [
    "Интуитивно этот оптимизатор представляет собой движение шарика с ускорением и накоплением импульса. Причем существует трение (отвечает коэфф. $momentum$), которая предотвращает чересчур большое накопление градиента.\n",
    "\n",
    "$m$ $-$ коэффициент $momentum$\n",
    "\n",
    "$d$ $-$ коэффициент $dampening$\n",
    "\n",
    "$B_k$ $-$ накопление градиентов, $G_k$ $-$ градиент\n",
    "\n",
    "$θ_k$ $-$ некий весовой коэффициент\n",
    "\n",
    "$B_k$ = $m\\cdot B_{k-1}$ $+$ $(1-d)\\cdot G_k$\n",
    "\n",
    "$θ_k$ = $θ_{k-1}$ $-$ $lr\\cdot B_k$"
   ]
  },
  {
   "cell_type": "code",
   "execution_count": 40,
   "id": "4840d248",
   "metadata": {},
   "outputs": [],
   "source": [
    "optimizer = optim.SGD(model.parameters(), # передача весов модели\n",
    "                      lr=0.03,            # learning rate\n",
    "                      weight_decay=0.01,  # L2 регуляризация\n",
    "                      momentum=0.9,       # коэффициент momentum\n",
    "                      dampening=0.05)     # коэффициент dampening"
   ]
  },
  {
   "cell_type": "code",
   "execution_count": 41,
   "id": "4528b33e",
   "metadata": {},
   "outputs": [
    {
     "data": {
      "text/plain": [
       "SGD (\n",
       "Parameter Group 0\n",
       "    dampening: 0.05\n",
       "    differentiable: False\n",
       "    foreach: None\n",
       "    fused: None\n",
       "    lr: 0.03\n",
       "    maximize: False\n",
       "    momentum: 0.9\n",
       "    nesterov: False\n",
       "    weight_decay: 0.01\n",
       ")"
      ]
     },
     "execution_count": 41,
     "metadata": {},
     "output_type": "execute_result"
    }
   ],
   "source": [
    "optimizer"
   ]
  },
  {
   "cell_type": "markdown",
   "id": "ca04a998",
   "metadata": {},
   "source": [
    "# [Adagrad](https://pytorch.org/docs/stable/generated/torch.optim.Adagrad.html)\n",
    "\n",
    "Есть необходимость двигаться не с одинаковой скоростью по всем координатам, а динамический подбирать скорость для каждой координаты по отдельности. Тем координатам, по которым обучение вышло на плато (седловая точка), алгоритм будет давать более высокие скорости. Остальным координатам, где скорость итак высокая, алгоритм будет постепенно занижать скорость. \n",
    "\n",
    "(Если по какому-то весу большая частная производная, то по индексу этого веса будет большой по значению элемент в векторе накопленной суммы, значит, при делении learning rate на это большое значение получается небольшое значение. Если по какому-то весу небольшая частная производная, то по индексу этого веса будет небольшой по значению элемент в векторе накопленной суммы, значит, при делении learning rate на это небольшое значение получается большое значение)\n",
    "\n",
    "$S_k$ $-$ накопленная сумма квадратов градиентов (вектор)\n",
    "\n",
    "$G_k$ $-$ градиент \n",
    "\n",
    "$θ_k$ $-$ некий весовой коэффициент\n",
    "\n",
    "$ε$ $-$ небольшое положительное число, чтобы не было деления на $0$\n",
    "\n",
    "$S_{k+1}$ = $S_k$ $+$ $(G_k)^2$\n",
    "\n",
    "$θ_{k+1}$ = $θ_{k}$ $-$ $\\frac{lr}{\\sqrt{S_{k+1}\\,+\\,ε}} \\cdot G_k$ "
   ]
  },
  {
   "cell_type": "code",
   "execution_count": 42,
   "id": "74195ba6",
   "metadata": {},
   "outputs": [],
   "source": [
    "optimizer = optim.Adagrad(model.parameters(), # передача весов модели\n",
    "                          lr=0.03,            # learning rate\n",
    "                          weight_decay=0.01)  # L2 регуляризация               "
   ]
  },
  {
   "cell_type": "code",
   "execution_count": 43,
   "id": "60033cf8",
   "metadata": {},
   "outputs": [
    {
     "data": {
      "text/plain": [
       "Adagrad (\n",
       "Parameter Group 0\n",
       "    differentiable: False\n",
       "    eps: 1e-10\n",
       "    foreach: None\n",
       "    fused: None\n",
       "    initial_accumulator_value: 0\n",
       "    lr: 0.03\n",
       "    lr_decay: 0\n",
       "    maximize: False\n",
       "    weight_decay: 0.01\n",
       ")"
      ]
     },
     "execution_count": 43,
     "metadata": {},
     "output_type": "execute_result"
    }
   ],
   "source": [
    "optimizer"
   ]
  },
  {
   "cell_type": "markdown",
   "id": "97b565ed",
   "metadata": {},
   "source": [
    "# [RMSProp](https://pytorch.org/docs/stable/generated/torch.optim.RMSprop.html)"
   ]
  },
  {
   "cell_type": "markdown",
   "id": "cb59c21d",
   "metadata": {},
   "source": [
    "Небольшая модификация Adagrad. Основная проблема Adagrad в том, что накопленная сумма может возрастать слишком быстро, что приводит к слишком быстрому уменьшению шага обучения, поэтому мы будем не просто складывать квадраты градиентов, а усреднять их скользящим средним. Такой выбор позволяет все еще учитывать историю градиентов, но при этом размер шага уменьшается не так быстро.\n",
    "\n",
    "$S_k$ $-$ накопленная сумма квадратов градиентов (вектор)\n",
    "\n",
    "$G_k$ $-$ градиент \n",
    "\n",
    "$θ_k$ $-$ некий весовой коэффициент\n",
    "\n",
    "$ε$ $-$ небольшое положительное число, чтобы не было деления на $0$\n",
    "\n",
    "$γ$ $-$ коэффициент скользящего среднего для накопленной суммы\n",
    "\n",
    "$S_{k+1}$ = $γ\\cdot S_k$ $+$ $(1-γ)\\cdot (G_k)^2$\n",
    "\n",
    "$θ_{k+1}$ = $θ_{k}$ $-$ $\\frac{lr}{\\sqrt{S_{k+1}\\,+\\,ε}} \\cdot G_k$ "
   ]
  },
  {
   "cell_type": "code",
   "execution_count": 44,
   "id": "27fefba6",
   "metadata": {},
   "outputs": [],
   "source": [
    "optimizer = optim.RMSprop(model.parameters(), # передача весов модели\n",
    "                          lr=0.03,            # learning rate\n",
    "                          weight_decay=0.01,  # L2 регуляризация \n",
    "                          alpha=0.9)          # коэффициент скользящ. среднего"
   ]
  },
  {
   "cell_type": "code",
   "execution_count": 45,
   "id": "8ed163a9",
   "metadata": {},
   "outputs": [
    {
     "data": {
      "text/plain": [
       "RMSprop (\n",
       "Parameter Group 0\n",
       "    alpha: 0.9\n",
       "    capturable: False\n",
       "    centered: False\n",
       "    differentiable: False\n",
       "    eps: 1e-08\n",
       "    foreach: None\n",
       "    lr: 0.03\n",
       "    maximize: False\n",
       "    momentum: 0\n",
       "    weight_decay: 0.01\n",
       ")"
      ]
     },
     "execution_count": 45,
     "metadata": {},
     "output_type": "execute_result"
    }
   ],
   "source": [
    "optimizer"
   ]
  },
  {
   "cell_type": "markdown",
   "id": "826aaecc",
   "metadata": {},
   "source": [
    "# [Adam](https://pytorch.org/docs/stable/generated/torch.optim.Adam.html)"
   ]
  },
  {
   "cell_type": "markdown",
   "id": "64401a78",
   "metadata": {},
   "source": [
    "Объединяет методы $RMSProp$ и $Momentum$ + добавляет [Bias correction](https://education.yandex.ru/handbook/ml/article/metody-optimizacii-v-deep-learning#:~:text=Bias%20correction)\n",
    "\n",
    "$G_k$ $-$ градиент \n",
    "\n",
    "$M_k$ $-$ часть, отвечающая за $Momentum$\n",
    "\n",
    "$V_k$ $-$ часть, отвечающая за $RMSProp$\n",
    "\n",
    "$θ_k$ $-$ некий весовой коэффициент\n",
    "\n",
    "$β_1,$ $β_2$ $-$ коэффициенты\n",
    "\n",
    "$ε$ $-$ небольшое положительное число, чтобы не было деления на $0$\n",
    "\n",
    "$V_0$ = $0,$ $M_0$ = $0$\n",
    "\n",
    "$M_k$ = $β_1\\cdot M_{k-1}$ $+$ $(1-β_1)\\cdot G_k$\n",
    "\n",
    "$V_k$ = $β_2\\cdot V_{k-1}$ $+$ $(1-β_2)\\cdot (G_k)^2$\n",
    "\n",
    "Применяем $bias$ $correction$\n",
    "\n",
    "$\\overline{M_k}$ = $\\frac{1}{1-β_1^k}\\cdot M_k$\n",
    "\n",
    "$\\overline{V_k}$ = $\\frac{1}{1-β_2^k}\\cdot V_k$\n",
    "\n",
    "$θ_{k+1}$ = $θ_{k}$ $-$ $\\frac{lr}{\\sqrt{\\overline{V_k}\\,+\\,ε}} \\cdot \\overline{M_k}$\n",
    "\n",
    "Мотивация использовать $bias$ $correction$\n",
    "\n",
    "Запишем $V_k$ в нерекурсивной форме\n",
    "\n",
    "$V_k$ = $(1-β_2)\\cdot \\sum_{i=1}^{k} β_2^{k-i} (G_i)^2$\n",
    "\n",
    "Пример:\n",
    "\n",
    "$V_1$ = $(1-β_2) \\cdot (G_1)^2$\n",
    "\n",
    "$V_2$ = $(1-β_2) \\cdot (β_2\\cdot (G_1)^2 + (G_2)^2)$\n",
    "\n",
    "$V_3$ = $(1-β_2) \\cdot (β_2^2\\cdot (G_1)^2 + β_2\\cdot (G_2)^2 + (G_3)^2)$ и так далее$...$\n",
    "\n",
    "Авторы этого метода [пишут](https://arxiv.org/pdf/1412.6980.pdf), что $M_k$ и $V_k$ должны быть несмещенными оценками $E$ $(G_k)$ и $E$ $(G_k^{\\,2})$ соответственно. \n",
    "\n",
    "Допустим, все $G_k$ $-$ независимые одинаково распределенные случайные величины. Это сильное предположение, но без этого не получатся красивые формулы. Рассмотрим на примере $V_k$, для $M_k$ рассуждения те же:\n",
    "\n",
    "Мат. ожидание суммы случайных величин = сумме мат. ожиданий случайных величин, где случайные величины $-$ $G_i^{\\,2}$, а константы выносятся из мат. ожидания.\n",
    "\n",
    "$E$ $(V_k)$ = $E$ $[\\,(1-β_2)\\cdot \\sum_{i=1}^{k} β_2^{k-i}G_i^{\\,2}\\,]$ = $(1-β_2)\\cdot \\sum_{i=1}^{k} β_2^{k-i}E\\,(G_i^{\\,2})$ = $|$ Так как случ. величины имеют одинаковое распределение, то мат. ожидания можно заменить на $E\\,(G_k^{\\,2})$ $|$ = $[(1-β_2)\\cdot \\sum_{i=1}^{k} β_2^{k-i}]\\cdot E\\,(G_k^{\\,2})$ = $[(1-β_2)\\cdot \\frac{1-β_2^{k}}{1-β_2}]\\cdot E\\,(G_k^{\\,2})$ = $(1-β_2^{k})\\cdot E\\,(G_k^{\\,2})$ \n",
    "\n",
    "$\\sum_{i=1}^{k} β_2^{k-i}$ = $\\frac{1-β_2^{k}}{1-β_2}$ (геометрическая прогрессия)\n",
    "\n",
    "Становится очевидно, $M_k$ и $V_k$ смещены на множитель $(1-β_2^{k}),$ поэтому авторы делят именно на него. Эффект смещения сильнее всего заметен в начале итерационного процесса, так как $(1-β_2^{k})$ стремится к $1$ при $0 ≤ β_2 < 1$ и при больших $k.$ (при больших $k$ происходит деление на число, близкое к $1$, которое не вносит большого вклада)"
   ]
  },
  {
   "cell_type": "code",
   "execution_count": 46,
   "id": "1844a8b7",
   "metadata": {},
   "outputs": [],
   "source": [
    "optimizer = optim.Adam(model.parameters(), # передача весов модели\n",
    "                       lr=0.03,            # learning rate\n",
    "                       weight_decay=0.01,  # L2 регуляризация \n",
    "                       betas=(0.9, 0.99))  # коэффициенты скольз. средних"
   ]
  },
  {
   "cell_type": "code",
   "execution_count": 47,
   "id": "7db6b49e",
   "metadata": {},
   "outputs": [
    {
     "data": {
      "text/plain": [
       "Adam (\n",
       "Parameter Group 0\n",
       "    amsgrad: False\n",
       "    betas: (0.9, 0.99)\n",
       "    capturable: False\n",
       "    differentiable: False\n",
       "    eps: 1e-08\n",
       "    foreach: None\n",
       "    fused: None\n",
       "    lr: 0.03\n",
       "    maximize: False\n",
       "    weight_decay: 0.01\n",
       ")"
      ]
     },
     "execution_count": 47,
     "metadata": {},
     "output_type": "execute_result"
    }
   ],
   "source": [
    "optimizer"
   ]
  },
  {
   "cell_type": "markdown",
   "id": "147403b0",
   "metadata": {},
   "source": [
    "# [Annealing](https://pytorch.org/docs/stable/optim.html#:~:text=lr_scheduler.CosineAnnealingLR)\n",
    "\n",
    "Отличная статья на [kaggle](https://www.kaggle.com/code/isbhargav/guide-to-pytorch-learning-rate-scheduling)\n",
    "\n",
    "С ростом числа эпох стоит уменьшать learning rate. \n",
    "\n",
    "Некоторые из вариантов:\n",
    "\n",
    "1) Каждый X эпох умножать на $λ$\n",
    "\n",
    "2) Умножать на $λ$ на плато\n",
    "\n",
    "3) Изменять learning rate по косинусу\n",
    "\n",
    "Все эти способы представлены в torch.optim.lr_scheduler\n",
    "\n",
    "$\\textbf{Сначала вызываем optimizer.step(), а только потом scheduler.step()}$"
   ]
  },
  {
   "cell_type": "code",
   "execution_count": 48,
   "id": "76b669ac",
   "metadata": {},
   "outputs": [],
   "source": [
    "from torch.optim.lr_scheduler import MultiplicativeLR\n",
    "from torch.optim.lr_scheduler import ReduceLROnPlateau\n",
    "from torch.optim.lr_scheduler import CosineAnnealingWarmRestarts\n",
    "import matplotlib.pyplot as plt"
   ]
  },
  {
   "cell_type": "markdown",
   "id": "bdaf3c7c",
   "metadata": {},
   "source": [
    "# [MultiplicativeLR](https://pytorch.org/docs/stable/generated/torch.optim.lr_scheduler.MultiplicativeLR.html#torch.optim.lr_scheduler.MultiplicativeLR)\n",
    "\n",
    "Изменяет learning rate каждые $n$ эпох путем умножения на число, возвращенное от $lr\\_lambda$"
   ]
  },
  {
   "cell_type": "code",
   "execution_count": 49,
   "id": "813d80d5",
   "metadata": {},
   "outputs": [],
   "source": [
    "lmbda = lambda epoch: 0.75\n",
    "scheduler = MultiplicativeLR(optimizer,       # оптимизатор\n",
    "                             lr_lambda=lmbda) # функция, которая вычисляет множитель по заданному целочисленному параметру epoch"
   ]
  },
  {
   "cell_type": "code",
   "execution_count": 50,
   "id": "d48b4a17",
   "metadata": {},
   "outputs": [
    {
     "data": {
      "image/png": "[encoded data removed]",
      "text/plain": [
       "<Figure size 640x480 with 1 Axes>"
      ]
     },
     "metadata": {},
     "output_type": "display_data"
    }
   ],
   "source": [
    "model = torch.nn.Linear(2, 1)\n",
    "optimizer = optim.SGD(model.parameters(), lr=100)\n",
    "scheduler = MultiplicativeLR(optimizer, lr_lambda=lmbda)\n",
    "lrs = []\n",
    "\n",
    "for i in range(10):\n",
    "    optimizer.step()\n",
    "    lrs.append(optimizer.param_groups[0][\"lr\"])\n",
    "    scheduler.step()\n",
    "\n",
    "plt.xlabel(\"Epochs\")\n",
    "plt.ylabel(\"Learning rate\")\n",
    "plt.plot(range(1, 11), lrs);"
   ]
  },
  {
   "cell_type": "markdown",
   "id": "ee78b860",
   "metadata": {},
   "source": [
    "# [ReduceLROnPlateau](https://pytorch.org/docs/stable/generated/torch.optim.lr_scheduler.ReduceLROnPlateau.html#torch.optim.lr_scheduler.ReduceLROnPlateau)\n",
    "\n",
    "Уменьшает learning rate, если обучение вышло на \"плато\""
   ]
  },
  {
   "cell_type": "code",
   "execution_count": 51,
   "id": "21ef98b8",
   "metadata": {},
   "outputs": [],
   "source": [
    "scheduler = ReduceLROnPlateau(optimizer,         # оптимизатор\n",
    "                              mode='min',        # В режиме min LR будет уменьшен, когда контролируемое количество перестанет \n",
    "                                                 # уменьшаться; в режиме max он будет уменьшен, когда контролируемое количество \n",
    "                                                 # перестанет увеличиваться. \n",
    "                              factor=0.1,        # Коэффициент, на который умножается скорость обучения при уменьшении\n",
    "                              patience=10,       # Количество эпох без улучшений, после которых происходит уменьшение LR\n",
    "                              threshold=0.0001)  # Порог, определяющий, что считать улучшением"
   ]
  },
  {
   "cell_type": "code",
   "execution_count": 96,
   "id": "3a386199",
   "metadata": {},
   "outputs": [
    {
     "data": {
      "image/png": "[encoded data removed]",
      "text/plain": [
       "<Figure size 640x480 with 1 Axes>"
      ]
     },
     "metadata": {},
     "output_type": "display_data"
    }
   ],
   "source": [
    "model = torch.nn.Linear(2, 1)\n",
    "optimizer = optim.SGD(model.parameters(), lr=100)\n",
    "scheduler = ReduceLROnPlateau(optimizer, patience=5, factor=0.3)\n",
    "lrs = []\n",
    "\n",
    "for i in range(30):\n",
    "    optimizer.step()\n",
    "    lrs.append(optimizer.param_groups[0][\"lr\"])\n",
    "    validation_loss = np.random.normal(1, 0.01) # имитация некой метрики\n",
    "    scheduler.step(validation_loss)             # передаем метрику или loss на валидации\n",
    "\n",
    "plt.xlabel(\"Epochs\")\n",
    "plt.ylabel(\"Learning rate\")\n",
    "plt.plot(range(1, 31), lrs);"
   ]
  },
  {
   "cell_type": "markdown",
   "id": "40234820",
   "metadata": {},
   "source": [
    "# [CosineAnnealingWarmRestarts](https://pytorch.org/docs/stable/generated/torch.optim.lr_scheduler.CosineAnnealingWarmRestarts.html#torch.optim.lr_scheduler.CosineAnnealingWarmRestarts)\n",
    "\n",
    "Меняет learning rate используя косинусный отжиг по формуле \n",
    "\n",
    "$η_t$ = $η_{min}$ + $0.5\\cdot (η\\_max - η\\_min)\\cdot (1 + cos(π \\cdot \\frac{T_{cur}}{T_{i}}))$\n",
    "\n",
    "$η_t$ $-$ learning rate на шаге $t$\n",
    "\n",
    "После завершения одного косинусного цикла (когда learning rate достигает $η_{min}$), learning rate резко сбрасывается до $η_{max}$. Это позволяет модели выходить из локального минимума, где она могла застрять, и исследовать пространство параметров более широко.\n",
    "\n",
    "Длительность цикла / количество итерации $-$ количество вызовов scheduler.step()\n",
    "\n",
    "Определяются параметры T_0 (длительность первого цикла) и T_mult (множитель длительности циклов). В течение первого цикла T_0 шагов learning rate уменьшается от $η_{max}$ до $η_{min}$ по косинусной кривой. Когда первый цикл завершен, learning rate резко сбрасывается до η_max. Длительность следующего цикла увеличивается в T_mult раз (т.е. T_1 = T_0 * T_mult). \n",
    "\n",
    "Процесс повторяется каждый раз с увеличенной продолжительностью (либо нет, если T_mult = 1) цикла и уменьшением learning rate по косинусной кривой в рамках каждого цикла."
   ]
  },
  {
   "cell_type": "code",
   "execution_count": 104,
   "id": "33c9c074",
   "metadata": {},
   "outputs": [
    {
     "data": {
      "image/png": "[encoded data removed]",
      "text/plain": [
       "<Figure size 640x480 with 1 Axes>"
      ]
     },
     "metadata": {},
     "output_type": "display_data"
    }
   ],
   "source": [
    "model = torch.nn.Linear(2, 1)\n",
    "optimizer = optim.SGD(model.parameters(), lr=100)\n",
    "scheduler = CosineAnnealingWarmRestarts(optimizer,  # оптимизатор\n",
    "                                        T_0=10,     # определяет длительность первого косинусного цикла\n",
    "                                        T_mult=2)   # определяет, во сколько раз будет увеличена длина каждого \n",
    "                                                    # последующего косинусного цикла относительно предыдущего\n",
    "lrs = []\n",
    "\n",
    "for i in range(100):\n",
    "    optimizer.step()\n",
    "    lrs.append(optimizer.param_groups[0][\"lr\"])\n",
    "    scheduler.step()\n",
    "\n",
    "plt.xlabel(\"Epochs\")\n",
    "plt.ylabel(\"Learning rate\")\n",
    "plt.plot(range(1, 101), lrs);"
   ]
  },
  {
   "cell_type": "markdown",
   "id": "fbb7cd94",
   "metadata": {},
   "source": [
    "# Регуляризация и полезные фишечки"
   ]
  },
  {
   "cell_type": "markdown",
   "id": "f5d2f4cf",
   "metadata": {},
   "source": [
    "### L2 регуляризация \n",
    "\n",
    "Параметр weight_decay $-$ $Loss$ + $λ\\cdot||w||_2^2$"
   ]
  },
  {
   "cell_type": "code",
   "execution_count": 107,
   "id": "84af68d9",
   "metadata": {},
   "outputs": [],
   "source": [
    "optimizer = optim.SGD(model.parameters(), lr=0.01, weight_decay=0.001)  # weight_decay - коэффициент перед L2 регуляризацией"
   ]
  },
  {
   "cell_type": "markdown",
   "id": "24a2ef9a",
   "metadata": {},
   "source": [
    "### [Dropout](https://pytorch.org/docs/stable/generated/torch.nn.Dropout.html)\n",
    "\n",
    "[Хорошая статья](https://proproprogs.ru/neural_network/dropout-metod-borby-s-pereobucheniem-neyronnoy-seti)\n",
    "\n",
    "[Хорошая статья 2](https://education.yandex.ru/handbook/ml/article/tonkosti-obucheniya#:~:text=Регуляризация%20через%20ограничение%20структуры%20модели)\n",
    "\n",
    "Основная идея Dropout заключается в случайном «выключении» (то есть временном исключении из обучения) определенного процента нейронов в сети на каждом шаге обучения. Это означает, что во время каждого прохода обучения (или каждой эпохи) случайно выбранный набор нейронов игнорируется. Это помогает предотвратить чрезмерную зависимость модели от конкретных путей и узлов в сети, что может привести к переобучению.\n",
    "\n",
    "Сначала выбирается вероятность p, с которой каждый нейрон будет исключаться. Для каждого слоя, где применяется Dropout, генерируется случайная маска. Эта маска имеет ту же размерность, что и слой, и каждый её элемент является бинарным (0 или 1), где 1 соответствует активации нейрона, а 0 — его отключению. Эта маска генерируется заново для каждого прохода обучения и для каждого обучающего примера. Активации нейронов умножаются на эту маску, эффективно «выключая» некоторые нейроны.\n",
    "\n",
    "В процессе обратного распространения ошибки, градиенты рассчитываются только для активных нейронов. Нейроны, которые были временно «выключены», не получают обновлений весов.\n",
    "\n",
    "На этапе предсказания dropout ничего не меняет, то есть она «выключается».\n",
    "\n",
    "Полезно провести аналогию с другим алгоритмом, использующим техники ансамблирования и метод случайных подпространств: речь о случайном лесе (Random Forest). При обучении сети на каждом шаге обучается лишь некоторая подсеть (некоторый подграф вычислений из исходного графа). При переходе в режим inference (то есть применения к реальным данным с целью получения результата, а не обучения) активируются сразу все подсети, и их результаты усредняются. Таким образом, сеть с dropout можно рассматривать как ансамбль из экспоненциально большого числа сетей меньшего размера. Это приводит к получению более устойчивой оценки значений целевой переменной.\n",
    "\n",
    "Интуитивно этот метод пытается сделать так, чтобы нейронная сеть ни на один нейрон больше не могла сильно рассчитывать, так как в процессе обучения каждый нейрон может случайно занулиться, а сети все равно нужно показывать хорошую точность.\n",
    "\n",
    "Важный момент в Dropout — значения на выходе из Dropout нужно домножать на множитель $\\frac{1}{1-p}$, где $p$ — вероятность исключения нейрона, так как иначе распределение входных значений на следующем слое после Dropout будет различаться во время обучения и во время инференса модели. \n",
    "\n",
    "**Объяснение:**\n",
    "\n",
    "Из объяснения из пункта про инициализацию He в случае отсутсвия Dropout следует:\n",
    "\n",
    "$Var$ $(y_i)$ = $E$ $(x_i)^2$ $\\cdot$ $Var$ $(w_i)$ + $E$ $(w_i)^2$ $\\cdot$ $Var$ $(x_i)$ + $Var$ $(w_i)$ $\\cdot$ $Var$ $(x_i)$ \n",
    "\n",
    "$(E$ $(w_i)$ = $0,$ $E$ $(x_i)$ ≠ $0)$ $=>$ $Var$ $(y_i)$ = $E$ $(x_i)^2$ $\\cdot$ $Var$ $(w_i)$ + $Var$ $(w_i)$ $\\cdot$ $Var$ $(x_i)$ = $Var$ $(w_i)$ $\\cdot$ $(E$ $(x_i)^2$ + $Var$ $(x_i))$ = $Var$ $(w_i)$ $\\cdot$ $E$ $(x_i^2)$\n",
    "\n",
    "$Var$ $(y)_1$ = $Var$ $(\\sum_{i=1}^{n_{in}}y_i)$ = $\\sum_{i=1}^{n_{in}}Var(y_i)$ = $n_{in}$ $\\cdot$ $Var$ $(w_i)$ $\\cdot$ $E$ $(x_i^2)_{1}$\n",
    "\n",
    "В случае Dropout следует:\n",
    "\n",
    "Пусть после обнуления некоторых нейронов осталось $n$ нейронов, где $n$ = $n_{in}\\cdot (1-p)$, то есть исходное количество нейронов, умноженное на вероятность того, что нейрон не будет исключен.\n",
    "\n",
    "$Var$ $(y)_{2}$ = $Var$ $(\\sum_{i=1}^{n}w_i\\cdot x_i)$ = $\\sum_{i=1}^{n}Var(w_i\\cdot x_i)$ = $n$ $\\cdot$ $Var$ $(w_i)$ $\\cdot$ $E$ $(x_i^2)_{2}$ = $n_{in}\\cdot (1-p)$ $\\cdot$ $Var$ $(w_i)$ $\\cdot$ $E$ $(x_i^2)_{2}$\n",
    "\n",
    "Так как из распределения Бернулли $1$ будет с вероятностью $(1-p)$ и $0$ с вероятностью $p$\n",
    "\n",
    "$E$ $(x_i^2)_{2}$ = $\\sum(x_i^{2}\\cdot \\frac{1}{n} \\cdot [(1-p) + 0\\cdot p]\\,)$ = $\\sum(x_i^{2}\\cdot \\frac{1}{n} \\cdot (1-p))$ = $(1-p)\\cdot \\sum(x_i^{2}\\cdot \\frac{1}{n})$ = $(1-p)\\, \\cdot$ $E$ $(x_i^2)_{1}$\n",
    "\n",
    "$Var$ $(y)_{2}$ = $n_{in}\\cdot (1-p)$ $\\cdot$ $Var$ $(w_i)$ $\\cdot$ $(1-p)\\, \\cdot$ $E$ $(x_i^2)_{1}$ = $n_{in}\\cdot (1-p)^2$ $\\cdot$ $Var$ $(w_i)$ $\\cdot$ $E$ $(x_i^2)_{1}$\n",
    "\n",
    "Дисперсии различаются лишь множителем $(1-p)^2$, поэтому, чтобы стабилизировать дисперсию, нужно умножать $x_i$ на $\\frac{1}{1-p}$.\n",
    "\n",
    "$Var$ $(\\sum_{i=1}^{n}w_i\\cdot x_i\\cdot \\frac{1}{1-p})$ = $\\frac{1}{(1-p)^2}\\cdot Var$ $(\\sum_{i=1}^{n}w_i\\cdot x_i)$ = $\\frac{1}{(1-p)^2}\\cdot$ $n_{in}\\cdot (1-p)^2$ $\\cdot$ $Var$ $(w_i)$ $\\cdot$ $E$ $(x_i^2)_{1}$ = $n_{in}$ $\\cdot$ $Var$ $(w_i)$ $\\cdot$ $E$ $(x_i^2)_{1}$ = $Var$ $(y)_1$\n",
    "\n",
    "**Объяснение на пальцах:**\n",
    "\n",
    "Пусть входные значения $x_i$ принадлежат отрезку $[-a, a]$, весовые коэффициенты $w_i$ принадлежат отрезку $[-b, b]$ и всего $n$ нейронов в левом слое. Получаем $y_1$ = $\\sum_{i=1}^n w_i\\cdot x_i$. Тогда $y_1$ принадлежит отрезку $[-nba, nba]$\n",
    "\n",
    "В случае Dropout имеем $y_2$ = $\\sum_{i=1}^{n\\cdot(1-p)} w_i\\cdot x_i$. Тогда $y_2$ принадлежит отрезку $[-(1-p)nba, (1-p)nba]$. Чтобы отрезки в первом и втором случаях совпадали, нужно брать входные значения $x_i$ с множителем $\\frac{1}{1-p}$\n",
    " \n",
    "На практике Dropout — специальный слой, который в процессе обучения умножает на множитель $\\frac{1}{1-p}$ и часть нейронов слоя зануляет. "
   ]
  },
  {
   "cell_type": "code",
   "execution_count": 230,
   "id": "d64b57d9",
   "metadata": {},
   "outputs": [
    {
     "data": {
      "text/plain": [
       "tensor([[-0.2594,  1.3940, -0.1239, -0.4558, -0.3184],\n",
       "        [-0.6501, -0.7475, -0.3159,  0.2069, -1.2937]])"
      ]
     },
     "execution_count": 230,
     "metadata": {},
     "output_type": "execute_result"
    }
   ],
   "source": [
    "dropout = nn.Dropout(p=0.6)  # 1 / (1 - 0.6) = 2.5\n",
    "inp = torch.randn(2, 5)\n",
    "inp"
   ]
  },
  {
   "cell_type": "code",
   "execution_count": 231,
   "id": "12ece638",
   "metadata": {},
   "outputs": [
    {
     "data": {
      "text/plain": [
       "tensor([[-0.6485,  0.0000, -0.0000, -1.1396, -0.7959],\n",
       "        [-0.0000, -0.0000, -0.7898,  0.5173, -0.0000]])"
      ]
     },
     "execution_count": 231,
     "metadata": {},
     "output_type": "execute_result"
    }
   ],
   "source": [
    "dropout(inp)"
   ]
  },
  {
   "cell_type": "markdown",
   "id": "2d4df591",
   "metadata": {},
   "source": [
    "# Batch normalization "
   ]
  },
  {
   "cell_type": "markdown",
   "id": "afcaaaf8",
   "metadata": {},
   "source": [
    "[Статья](https://proproprogs.ru/neural_network/batch-normalization-batch-normalizaciya-chto-eto-takoe)\n",
    "\n",
    "[Видео](https://www.youtube.com/watch?v=Y9a5EfqM7RM&ab_channel=DeepLearningSchool)\n",
    "\n",
    "У нейронных сетей есть проблема, которая называется внутренним ковариационным сдвигом. Этот термин описывает явление, при котором распределение входных данных каждого слоя нейронной сети меняется в процессе обучения, из-за чего сети становится сложнее обучать. Например, мы подаем данные из нормального распределения, но после скалярного произведения входных значений на веса и применений ReLU распределение значений становится иным. Можно понимать еще так, что если на очередном шаге градиентного спуска меняются веса одного из первых слоев, то это неминуемо приводит к изменению распределения активаций выходов этого слоя. А значит, всем последующим слоям надо адаптироваться к по-новому распределенным данным. То есть параметры предыдущих слоев изменяются во время обучения, влияя на данные текущего слоя. Для решения этой проблемы придумали Batch normalization.\n",
    "\n",
    "Так думали создатели данной техники, но вышла [статья](https://arxiv.org/pdf/1805.11604), где авторы опровергли причины эффективности Batch normalization. Традиционно считалось, что этот подход помогает бороться с \"внутренним ковариационным сдвигом\", но авторы привели другое объяснение: BatchNorm делает ландшафт оптимизации (поверхность функции потерь) значительно более гладким. \n",
    "\n",
    "Это приводит к следующим эффектам:\n",
    "\n",
    "- Градиенты становятся более предсказуемыми и стабильными.\n",
    "\n",
    "- Это позволяет использовать более высокие learning rate (скорость обучения).\n",
    "\n",
    "- Обучение становится быстрее и устойчивее.\n",
    "\n",
    "Для опровержения авторы сравнили 3 модели: без Batch normalization, с Batch normalization и с Batch normalization + некий шум с ненулевым средним значением и неединичной дисперсией, который призван создать сильный ковариационный сдвиг. Оказалось, что обе эти сети (с BatchNorm и \"зашумлённым\" BatchNorm) работают значительно лучше, чем стандартная сеть без BatchNorm. Результаты показывают, что даже при сильном нарушении стабильности распределений входных данных (из-за добавления шума) BatchNorm всё равно демонстрирует высокую производительность. Это ставит под сомнение утверждение о том, что успех BatchNorm связан именно со стабилизацией распределений.\n",
    "\n",
    "Использование batch normalization гарантирует, что каждая компонента представления на выходе будет иметь контролируемое среднее и дисперсию. Достигается это следующим образом:\n",
    "\n",
    "**Во время обучения** Пусть батч состоит из $\\mathbf{x_i}$ (каждый $\\mathbf{x_i}$ - вектор, подающийся на вход). Здесь все операции надо воспринимать как векторные поэлементные операции.\n",
    "\n",
    "$$\\begin{aligned}\n",
    "\\mu_{\\mathcal{B}} & \\leftarrow \\frac{1}{m} \\sum_{i=1}^{m} x_{i} \\\\\n",
    "\\sigma_{\\mathcal{B}}^{2} & \\leftarrow \\frac{1}{m} \\sum_{i=1}^{m}\\left(x_{i}-\\mu_{\\mathcal{B}}\\right)^{2} \\\\\n",
    "\\widehat{x}_{i} & \\leftarrow \\frac{x_{i}-\\mu_{\\mathcal{B}}}{\\sqrt{\\sigma_{\\mathcal{B}}^{2}+\\epsilon}} \\\\\n",
    "y_{i} & \\leftarrow \\gamma \\widehat{x}_{i}+\\beta\n",
    "\\end{aligned}$$\n",
    "\n",
    "$\\gamma, \\beta$ $-$ обучаемые параметры (тоже векторы), позволяющие настраивать в ходе обучения оптимальные значения матожидания и дисперсии выходного слоя. $m$ $-$ размер батча. \n",
    "\n",
    "**Во время предсказания**\n",
    "\n",
    "Мы делаем то же самое, но у нас нет батча. Поэтому в качестве $\\mu_{\\mathcal{B}}$ и $\\sigma_{\\mathcal{B}}$ мы используем среднее и стандартное отклонение признака во всем датасете. Обычно нам не хочется после обучения еще раз применять сеть ко всем примерам из обучающего датасета, чтобы вычислить эти статистики, поэтому вместо них мы используем $\\overline{\\mu_{\\mathcal{B}}}$ и $\\overline{\\sigma_{\\mathcal{B}}}$ которые были получены в ходе обучения как скользящее среднее всех $\\mu_{\\mathcal{B}}$ и $\\sigma_{\\mathcal{B}}$.\n",
    "\n",
    "$\\overline{\\mu_{\\mathcal{B}}}$ = $\\overline{\\mu_{\\mathcal{B}}}\\cdot (1-\\lambda)$ + $\\mu_{\\mathcal{B}}\\cdot \\lambda$\n",
    "\n",
    "$\\overline{\\sigma_{\\mathcal{B}}^2}$ = $\\overline{\\sigma_{\\mathcal{B}}^2}\\cdot (1-\\lambda)$ + $\\sigma_{\\mathcal{B}}^2\\cdot \\lambda$\n",
    "\n",
    "**В итоге** Batch normalization имеет следующие плюсы:\n",
    "\n",
    "* Более быстрое обучение. Можно брать learning rate побольше.\n",
    "* Обучение более глубоких сетей.\n",
    "* Регуляризация.\n",
    "* Повышение точности моделей.\n",
    "* Не так важна инициализация весов\n",
    "\n",
    "**Важный момент**\n",
    "\n",
    "[Stackoverflow](https://stackoverflow.com/questions/38553927/batch-normalization-in-convolutional-neural-network)\n",
    "\n",
    "В обычном случае, мы работаем с каждым признаком, считаем среднее и стандартное отклонение для признака в пределах одного батча. Все меняется в случае сверточных слоев. В сверточных сетях мы хотим сохранить свойство \"если в разных частях картинки находятся одинаковые наборы пикселей, то соответствующие выходы сверточного слоя будут одинаковыми\". Если бы мы применяли алгоритм, который описан выше, то получилось бы так, что для 2 одинаковых наборов пикселей внутри одного канала (карты признаков), которые находятся в разных частях картинки, мы получили бы разные значения на выходе Batch normalization. (Мы получили бы $mean$ и $std$ для каждого пикселя каждого канала, поэтому для каждого пикселя из каждого канала происходила бы нормализация). Чтобы решить эту проблему, можно усреднять не только по batch_size, но и по height и weight координатам.\n",
    "\n",
    "Пример: На вход подается многомерный тензор размера **[B, C, H, W]**. Где B - количество батчей, H - высота картинок, W - ширина картинок, а C - количество каналов. Тогда обычный батчнорм выполнял бы нормирование так:\n",
    "\n",
    "```python\n",
    "# t - это входящий тензор формы [B, C, H, W]\n",
    "# среднее значение и стандартное отклонение вычисляются по оси 0 и имеют форму [C, H, W] \n",
    "mean = mean(t, axis=0)\n",
    "std = std(t, axis=0)\n",
    "for i in 0..B-1:\n",
    "    out[i,:,:,:] = norm(t[i,:,:,:], mean, std)\n",
    "```\n",
    "\n",
    "В то время как батчнорм для сверточных сетей:\n",
    "\n",
    "```python\n",
    "# t - это входящий тензор формы [B, C, H, W]\n",
    "# но среднее значение и стандартное отклонение вычисляются по осям (0, 2, 3) и имеют форму [C]\n",
    "mean = mean(t, axis=(0, 2, 3))\n",
    "std = std(t, axis=(0, 2, 3))\n",
    "for i in 0..B-1, x in 0..H-1, y in 0..W-1:\n",
    "    out[i,:,x,y] = norm(t[i,:,x,y], mean, std)\n",
    "```\n",
    "\n",
    "То есть среднее и стандартное отклонение вычисляются для каждого канала, где каждый канал представляет собой матрицу. Для каждого элемента матрицы будет одно и то же среднее и стандартное отклонение, а по предложенному алгоритму было бы так, что для каждого элемента матрицы было бы свое среднее и свое стандартное отклонение. "
   ]
  },
  {
   "cell_type": "markdown",
   "id": "1698369e",
   "metadata": {},
   "source": [
    "# [BatchNorm1d](https://pytorch.org/docs/stable/generated/torch.nn.BatchNorm1d.html)\n",
    "\n",
    "**torch.nn.BatchNorm1d ( num_features, eps = 1e- 05, momentum = 0.1, affine = True ... )**\n",
    "\n",
    "num_features = числу **C** из формы **(N, C, L)** или **(N, C)** входного тензора.\n",
    "\n",
    "На вход принимает тензор формы **(N, C, L)** или **(N, C)**, где **N** - размер батча, **С** - количество признаков или каналов, **L** - длина последовательности.\n",
    "\n",
    "На выходе тензор той же формы, что и на входе."
   ]
  },
  {
   "cell_type": "code",
   "execution_count": 691,
   "id": "a3c1e038",
   "metadata": {},
   "outputs": [],
   "source": [
    "bn = nn.BatchNorm1d(5,                # размерность вектора параметров масштабирования std и вектора сдвига mean.\n",
    "                    momentum=0.1,     # используется для вычисления скользящего среднего running_mean и дисперсии running_var.\n",
    "                    affine = False)   # Определяет, будет ли BatchNorm использовать обучаемые параметры γ,ꞵ   "
   ]
  },
  {
   "cell_type": "code",
   "execution_count": 692,
   "id": "a36e5c5e",
   "metadata": {},
   "outputs": [
    {
     "data": {
      "text/plain": [
       "(tensor([0., 0., 0., 0., 0.]), tensor([1., 1., 1., 1., 1.]))"
      ]
     },
     "execution_count": 692,
     "metadata": {},
     "output_type": "execute_result"
    }
   ],
   "source": [
    "bn.running_mean, bn.running_var"
   ]
  },
  {
   "cell_type": "code",
   "execution_count": 693,
   "id": "64fc3991",
   "metadata": {},
   "outputs": [],
   "source": [
    "x = torch.randn(3, 5)"
   ]
  },
  {
   "cell_type": "code",
   "execution_count": 694,
   "id": "474608bc",
   "metadata": {},
   "outputs": [
    {
     "data": {
      "text/plain": [
       "tensor([[ 0.6075, -0.8080,  0.1757,  0.8721, -0.4504],\n",
       "        [ 0.2453,  0.8983, -1.0317,  1.7532,  0.6079],\n",
       "        [ 2.1194, -1.8973, -0.4699,  0.2765, -1.1416]])"
      ]
     },
     "execution_count": 694,
     "metadata": {},
     "output_type": "execute_result"
    }
   ],
   "source": [
    "x"
   ]
  },
  {
   "cell_type": "code",
   "execution_count": 695,
   "id": "3e1f6aec",
   "metadata": {},
   "outputs": [
    {
     "data": {
      "text/plain": [
       "tensor([[-0.4722, -0.1788,  1.2520, -0.1568, -0.1701],\n",
       "        [-0.9184,  1.3043, -1.1954,  1.2956,  1.3009],\n",
       "        [ 1.3905, -1.1255, -0.0566, -1.1388, -1.1308]])"
      ]
     },
     "execution_count": 695,
     "metadata": {},
     "output_type": "execute_result"
    }
   ],
   "source": [
    "bn(x)"
   ]
  },
  {
   "cell_type": "code",
   "execution_count": 696,
   "id": "1bee2927",
   "metadata": {},
   "outputs": [
    {
     "data": {
      "text/plain": [
       "tensor([[-0.4722, -0.1788,  1.2521, -0.1568, -0.1701],\n",
       "        [-0.9184,  1.3043, -1.1955,  1.2956,  1.3009],\n",
       "        [ 1.3906, -1.1255, -0.0566, -1.1388, -1.1308]])"
      ]
     },
     "execution_count": 696,
     "metadata": {},
     "output_type": "execute_result"
    }
   ],
   "source": [
    "(x - x.mean(axis=0)) / x.std(axis=0, correction=0)  # что происходит под капотом"
   ]
  },
  {
   "cell_type": "code",
   "execution_count": 697,
   "id": "ece64a8e",
   "metadata": {},
   "outputs": [
    {
     "data": {
      "text/plain": [
       "(tensor([ 0.0991, -0.0602, -0.0442,  0.0967, -0.0328]),\n",
       " tensor([0.9988, 1.0986, 0.9365, 0.9552, 0.9776]))"
      ]
     },
     "execution_count": 697,
     "metadata": {},
     "output_type": "execute_result"
    }
   ],
   "source": [
    "bn.running_mean, bn.running_var"
   ]
  },
  {
   "cell_type": "markdown",
   "id": "afec9c8f",
   "metadata": {},
   "source": [
    "# [BatchNorm2d](https://pytorch.org/docs/stable/generated/torch.nn.BatchNorm2d.html#torch.nn.BatchNorm2d)\n",
    "\n",
    "**torch.nn.BatchNorm2d ( num_features, eps = 1e- 05, momentum = 0.1, affine = True ... )**\n",
    "\n",
    "num_features = числу **C** из формы **(N, C, H, W)** входного тензора.\n",
    "\n",
    "То же самое, что и BatchNorm1d, только применяется для тензоров формы **(N, C, H, W)**, где **N** - размер батча, **С** - количество каналов, **H** - высота, **W** - ширина. То есть применяется для сверточных нейросетей."
   ]
  },
  {
   "cell_type": "code",
   "execution_count": 687,
   "id": "889eea21",
   "metadata": {},
   "outputs": [],
   "source": [
    "bn = nn.BatchNorm2d(2,              # размерность вектора параметров масштабирования std и вектора сдвига mean.\n",
    "                    momentum=0.2,   # используется для вычисления скользящего среднего running_mean и дисперсии running_var.\n",
    "                    affine=True)    # Определяет, будет ли BatchNorm использовать обучаемые параметры γ,ꞵ   "
   ]
  },
  {
   "cell_type": "code",
   "execution_count": 688,
   "id": "69ee1dfd",
   "metadata": {},
   "outputs": [
    {
     "data": {
      "text/plain": [
       "(tensor([0., 0.]), tensor([1., 1.]))"
      ]
     },
     "execution_count": 688,
     "metadata": {},
     "output_type": "execute_result"
    }
   ],
   "source": [
    "bn.running_mean, bn.running_var"
   ]
  },
  {
   "cell_type": "code",
   "execution_count": 689,
   "id": "07a554ce",
   "metadata": {},
   "outputs": [
    {
     "data": {
      "text/plain": [
       "tensor([[[[-1.0718,  2.0470, -0.0351],\n",
       "          [-0.0190, -1.3330,  0.9814],\n",
       "          [ 0.5379, -0.6453, -0.4621]],\n",
       "\n",
       "         [[-1.0833,  0.0032,  0.8953],\n",
       "          [-1.3866, -1.3942,  0.2440],\n",
       "          [ 0.7903,  0.4137,  1.5176]]]], grad_fn=<NativeBatchNormBackward0>)"
      ]
     },
     "execution_count": 689,
     "metadata": {},
     "output_type": "execute_result"
    }
   ],
   "source": [
    "bn( torch.randn(1, 2, 3, 3) )"
   ]
  },
  {
   "cell_type": "code",
   "execution_count": 707,
   "id": "712a1220",
   "metadata": {},
   "outputs": [
    {
     "data": {
      "text/plain": [
       "(tensor([ 0.0991, -0.0602, -0.0442,  0.0967, -0.0328]),\n",
       " tensor([0.9988, 1.0986, 0.9365, 0.9552, 0.9776]))"
      ]
     },
     "execution_count": 707,
     "metadata": {},
     "output_type": "execute_result"
    }
   ],
   "source": [
    "bn.running_mean, bn.running_var"
   ]
  },
  {
   "cell_type": "code",
   "execution_count": null,
   "id": "750cc8de",
   "metadata": {},
   "outputs": [],
   "source": []
  }
 ],
 "metadata": {
  "kernelspec": {
   "display_name": "Python 3 (ipykernel)",
   "language": "python",
   "name": "python3"
  },
  "language_info": {
   "codemirror_mode": {
    "name": "ipython",
    "version": 3
   },
   "file_extension": ".py",
   "mimetype": "text/x-python",
   "name": "python",
   "nbconvert_exporter": "python",
   "pygments_lexer": "ipython3",
   "version": "3.11.5"
  }
 },
 "nbformat": 4,
 "nbformat_minor": 5
}
